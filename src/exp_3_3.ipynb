{
 "cells": [
  {
   "cell_type": "code",
   "execution_count": null,
   "metadata": {},
   "outputs": [],
   "source": [
    "import matplotlib.pyplot as plt\n",
    "import numpy as np\n",
    "import scipy.integrate\n"
   ]
  },
  {
   "cell_type": "markdown",
   "metadata": {},
   "source": [
    "# 3.3 - leapfrog and the Driven Harmonic Oscillator\n"
   ]
  },
  {
   "cell_type": "markdown",
   "metadata": {},
   "source": [
    "Solving the harmonic oscillator by defining it as an ODE and solving the initial value problem:\n",
    "\n",
    "parameters m=k=1\n",
    "\n",
    "initial condition v(-0.5) = 0, x(0)=1\n",
    "\n",
    "First we solve the system with different methods and measure the amplitude over long timescales (this cell runs for 3 minutes)"
   ]
  },
  {
   "cell_type": "code",
   "execution_count": null,
   "metadata": {},
   "outputs": [],
   "source": [
    "m=1\n",
    "k=1\n",
    "t_max=1000000\n",
    "t_steps = 10*t_max\n",
    "\n",
    "def f_t(t):\n",
    "    return 0\n",
    "\n",
    "\n",
    "def f(t, y):\n",
    "    x, v = y\n",
    "    dx = v\n",
    "    dv = (f_t(t) - k*x)/m\n",
    "    return np.array([dx, dv])\n",
    "\n",
    "y0 = np.array([1,0])\n",
    "ts, dt = np.linspace(0,t_max,t_steps, retstep=True)\n",
    "\n",
    "plt.figure(figsize=[6,3])\n",
    "for method in ['RK23', 'RK45', 'DOP853']:\n",
    "\n",
    "    sol = scipy.integrate.solve_ivp(f, [0,t_max], y0=y0, t_eval=ts, method=method)\n",
    "    y_max = np.max(sol.y[0].reshape(-1,100), axis=1)\n",
    "    plt.plot(ts[::100], y_max, label=method)\n",
    "\n",
    "x = np.zeros_like(ts)\n",
    "v = np.zeros_like(ts)\n",
    "x[0]=1\n",
    "for i, t in enumerate(ts[:-1]):\n",
    "    v[i+1] = v[i] + dt*(f_t(t) - k*x[i])\n",
    "    x[i+1] = x[i] + dt*v[i+1]\n",
    "       \n",
    "x_max = np.max(x.reshape(-1,100), axis=1)\n",
    "plt.plot(ts[::100], x_max, label='leapfrog')\n",
    "plt.grid()\n",
    "plt.ylabel(r'$x_{max}$', fontsize=16)\n",
    "plt.xlabel('t', fontsize=16)\n",
    "plt.xscale('log')\n",
    "plt.legend(title='method')\n",
    "\n",
    "plt.savefig('../results/solver_comare.png', dpi=600)\n"
   ]
  },
  {
   "cell_type": "markdown",
   "metadata": {},
   "source": [
    "Now we add a sinusoidal driving force with frequency $w_{driv}$ to the oscillator and solve it with the leapfrog method "
   ]
  },
  {
   "cell_type": "code",
   "execution_count": null,
   "metadata": {},
   "outputs": [],
   "source": [
    "fig1, ax1 = plt.subplots(1,3, figsize=[6,2])\n",
    "fig2, ax2 = plt.subplots(3,1, figsize=[6,6], sharex=True)\n",
    "for n, wdriv in enumerate([2., 1.5, 1.1]):\n",
    "    m=1\n",
    "    k=1\n",
    "    t_max=100\n",
    "    t_steps = 100*t_max\n",
    "\n",
    "    def f_t(t):\n",
    "        return np.sin(wdriv*t)\n",
    "\n",
    "\n",
    "    def f(t, y):\n",
    "        x, v = y\n",
    "        dx = v\n",
    "        dv = (f_t(t) - k*x)/m\n",
    "        return np.array([dx, dv])\n",
    "\n",
    "    y0 = np.array([0,5])\n",
    "    ts, dt = np.linspace(0,t_max,t_steps, retstep=True)\n",
    "\n",
    "\n",
    "    x = np.zeros_like(ts)\n",
    "    v = np.zeros_like(ts)\n",
    "    x[0] =1\n",
    "    for i, t in enumerate(ts[:-1]):\n",
    "        v[i+1] = v[i] + dt*(f_t(t) - k*x[i])\n",
    "        x[i+1] = x[i] + dt*v[i+1]\n",
    "    ax2[n].plot(ts, x, label='x')\n",
    "    ax2[n].plot(ts - 0.5*dt, v, label='v')\n",
    "    ax2[n].legend(loc=2)\n",
    "\n",
    "    ax1[n].set_xlabel('x')\n",
    "    ax1[n].scatter(x, v, s=1, marker='.')\n",
    "    \n",
    "    ax1[n].set_title(r'$\\omega_D = {}$'.format(wdriv))\n",
    "    ax2[n].set_title(r'$\\omega_D = {}$'.format(wdriv))\n",
    "\n",
    "ax2[-1].set_xlabel('t')\n",
    "ax1[0].set_ylabel('v')\n",
    "fig1.tight_layout()\n",
    "fig2.tight_layout()\n",
    "\n",
    "fig1.savefig('../results/phase_diags.png', dpi=600)\n",
    "fig2.savefig('../results/xv.png', dpi=600)\n",
    "\n",
    "    "
   ]
  }
 ],
 "metadata": {
  "kernelspec": {
   "display_name": "introcls",
   "language": "python",
   "name": "python3"
  },
  "language_info": {
   "codemirror_mode": {
    "name": "ipython",
    "version": 3
   },
   "file_extension": ".py",
   "mimetype": "text/x-python",
   "name": "python",
   "nbconvert_exporter": "python",
   "pygments_lexer": "ipython3",
   "version": "3.12.5"
  }
 },
 "nbformat": 4,
 "nbformat_minor": 2
}
