{
 "cells": [
  {
   "cell_type": "markdown",
   "metadata": {},
   "source": [
    "# Direct methods for solving steady state problems"
   ]
  },
  {
   "cell_type": "code",
   "execution_count": null,
   "metadata": {},
   "outputs": [],
   "source": [
    "from concentration import *\n",
    "from shape_creator import *\n",
    "from laplacian_creator import *\n",
    "from drum_eigenmodes import *\n",
    "from plotting import *"
   ]
  },
  {
   "cell_type": "markdown",
   "metadata": {},
   "source": [
    "## Point G"
   ]
  },
  {
   "cell_type": "code",
   "execution_count": null,
   "metadata": {},
   "outputs": [],
   "source": [
    "c = 1\n",
    "N = 10\n",
    "L = 4.0\n",
    "\n",
    "laplacian_circ, in_shape_circ, x, y = create_laplacian_shape(N, L, 'circle', generate_circle_grid)\n",
    "plot_laplacian(laplacian_circ)"
   ]
  },
  {
   "cell_type": "code",
   "execution_count": null,
   "metadata": {},
   "outputs": [],
   "source": [
    "def test_eigenmode():\n",
    "    c = 1\n",
    "    N = 100\n",
    "    L = 4.0\n",
    "\n",
    "    laplacian_circ, in_shape_circ, x, y = create_sparse_laplacian_shape(N, L, 'circle', generate_circle_grid)\n",
    "\n",
    "    concentration = steady_state_concentration(x,y, N, in_shape_circ, laplacian_circ)\n",
    "    plot_concentration(concentration, in_shape_circ, L)\n",
    "    \n",
    "    return\n",
    "\n",
    "test_eigenmode()"
   ]
  },
  {
   "cell_type": "markdown",
   "metadata": {},
   "source": [
    "## Extra Time Comparison"
   ]
  },
  {
   "cell_type": "code",
   "execution_count": null,
   "metadata": {},
   "outputs": [],
   "source": [
    "L = 4.0\n",
    "N_array = [10,20,30,40,50,60,70,80,90,100]\n",
    "sparse_time_array, full_time_array = time_comparison_stead_state_diff(N_array, L, generate_circle_grid, 'circle')\n",
    "plot_time_comparison(sparse_time_array, full_time_array, N_array)"
   ]
  }
 ],
 "metadata": {
  "kernelspec": {
   "display_name": "venv",
   "language": "python",
   "name": "python3"
  },
  "language_info": {
   "codemirror_mode": {
    "name": "ipython",
    "version": 3
   },
   "file_extension": ".py",
   "mimetype": "text/x-python",
   "name": "python",
   "nbconvert_exporter": "python",
   "pygments_lexer": "ipython3",
   "version": "3.11.9"
  }
 },
 "nbformat": 4,
 "nbformat_minor": 2
}
