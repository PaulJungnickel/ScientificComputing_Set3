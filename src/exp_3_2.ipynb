{
 "cells": [
  {
   "cell_type": "code",
   "execution_count": null,
   "metadata": {},
   "outputs": [],
   "source": [
    "import matplotlib.pyplot as plt\n",
    "import numpy as np\n",
    "import scipy.sparse as sp\n",
    "import scipy.linalg\n",
    "import time\n",
    "\n",
    "import os\n",
    "import sys\n",
    "\n",
    "from concentration import *\n",
    "from shape_creator import *\n",
    "from laplacian_creator import *\n",
    "from drum_eigenmodes import *\n",
    "from plotting import *\n"
   ]
  },
  {
   "cell_type": "code",
   "execution_count": null,
   "metadata": {},
   "outputs": [],
   "source": [
    "def test_eigenmode():\n",
    "    c = 1\n",
    "    N = 100\n",
    "    L = 4.0\n",
    "\n",
    "    laplacian_circ, in_shape_circ, x, y = create_laplacian_shape(N, L, 'circle', generate_circle_grid)\n",
    "\n",
    "    plot_laplacian(laplacian_circ)\n",
    "\n",
    "    concentration = steady_state_concentration(x,y, N, in_shape_circ, laplacian_circ)\n",
    "    plot_concentration(concentration, in_shape_circ)\n",
    "    \n",
    "    return\n",
    "\n",
    "test_eigenmode()"
   ]
  },
  {
   "cell_type": "code",
   "execution_count": null,
   "metadata": {},
   "outputs": [],
   "source": []
  },
  {
   "cell_type": "code",
   "execution_count": null,
   "metadata": {},
   "outputs": [],
   "source": []
  }
 ],
 "metadata": {
  "kernelspec": {
   "display_name": "venv",
   "language": "python",
   "name": "python3"
  },
  "language_info": {
   "codemirror_mode": {
    "name": "ipython",
    "version": 3
   },
   "file_extension": ".py",
   "mimetype": "text/x-python",
   "name": "python",
   "nbconvert_exporter": "python",
   "pygments_lexer": "ipython3",
   "version": "3.11.9"
  }
 },
 "nbformat": 4,
 "nbformat_minor": 2
}
