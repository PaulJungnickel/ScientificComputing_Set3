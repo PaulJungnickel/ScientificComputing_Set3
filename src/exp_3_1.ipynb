{
 "cells": [
  {
   "cell_type": "markdown",
   "metadata": {},
   "source": [
    "# Eigenmodes of drums or membranes of different shapes"
   ]
  },
  {
   "cell_type": "code",
   "execution_count": null,
   "metadata": {},
   "outputs": [],
   "source": [
    "import numpy as np\n",
    "\n",
    "from shape_creator import *\n",
    "from laplacian_creator import *\n",
    "from drum_eigenmodes import *\n",
    "from plotting import *"
   ]
  },
  {
   "cell_type": "markdown",
   "metadata": {},
   "source": [
    "## Point B"
   ]
  },
  {
   "cell_type": "markdown",
   "metadata": {},
   "source": [
    "### All shapes "
   ]
  },
  {
   "cell_type": "code",
   "execution_count": null,
   "metadata": {},
   "outputs": [],
   "source": [
    "N = 5\n",
    "L = 1\n",
    "#square\n",
    "laplacian_square, in_square, x_square, y_square = create_laplacian_shape(N, L, \"square\", generate_square_grid)\n",
    "print(in_square)\n",
    "plot_laplacian(laplacian_square)\n",
    "\n",
    "#rectangle\n",
    "laplacian_rectangle, in_rectangle, x_rect, y_rect = create_laplacian_shape(N, L, \"rectangle\", generate_rectangle_grid)\n",
    "print(in_rectangle)\n",
    "plot_laplacian(laplacian_rectangle)\n",
    "\n",
    "#circle \n",
    "laplacian_circle, in_circle, x_circle, y_circle = create_laplacian_shape(N, L, \"circle\", generate_circle_grid)\n",
    "print(in_circle)\n",
    "plot_laplacian(laplacian_circle)\n"
   ]
  },
  {
   "cell_type": "code",
   "execution_count": null,
   "metadata": {},
   "outputs": [],
   "source": [
    "N = 100\n",
    "L = 1.0\n",
    "methods = ['eig', 'eigh', 'sparse_eigsh', 'sparse_eigs']"
   ]
  },
  {
   "cell_type": "markdown",
   "metadata": {},
   "source": [
    "### Square LxL"
   ]
  },
  {
   "cell_type": "code",
   "execution_count": null,
   "metadata": {},
   "outputs": [],
   "source": [
    "laplacian_square, in_square, x_square, y_square = create_sparse_laplacian_shape(N, L, \"square\", generate_square_grid)\n",
    "eigenvalues_square, eigenvectors_square = eigenvalues_and_eigenvectors(laplacian_square, 'sparse_eigs')\n",
    "#plot_eigenmodes(eigenvectors_square, eigenvalues_square, in_square, N)\n",
    "plot_eigenmodes_grid(eigenvectors_square, eigenvalues_square, in_square, N)"
   ]
  },
  {
   "cell_type": "markdown",
   "metadata": {},
   "source": [
    "### Rectangle Lx2L"
   ]
  },
  {
   "cell_type": "code",
   "execution_count": null,
   "metadata": {},
   "outputs": [],
   "source": [
    "laplacian_rectangle, in_rectangle, x_rect, y_rect = create_laplacian_shape(N, L, \"rectangle\", generate_rectangle_grid)\n",
    "eigenvalues_rectangle, eigenvectors_rectangle = eigenvalues_and_eigenvectors(laplacian_rectangle, 'sparse_eigs')\n",
    "#plot_eigenmodes(eigenvectors_rectangle, eigenvalues_rectangle, in_rectangle, N)\n",
    "plot_eigenmodes_grid(eigenvectors_rectangle, eigenvalues_rectangle, in_rectangle, N)"
   ]
  },
  {
   "cell_type": "markdown",
   "metadata": {},
   "source": [
    "### Circle, diameter L"
   ]
  },
  {
   "cell_type": "code",
   "execution_count": null,
   "metadata": {},
   "outputs": [],
   "source": [
    "laplacian_circle, in_circle, x_circle, y_circle = create_laplacian_shape(N, L, \"circle\", generate_circle_grid)\n",
    "eigenvalues_circle, eigenvectors_circle = eigenvalues_and_eigenvectors(laplacian_circle, 'sparse_eigs')\n",
    "#plot_eigenmodes(eigenvectors_circle, eigenvalues_circle, in_circle, N)\n",
    "plot_eigenmodes_grid(eigenvectors_circle, eigenvalues_circle, in_circle, N)"
   ]
  },
  {
   "cell_type": "markdown",
   "metadata": {},
   "source": [
    "## Point C"
   ]
  },
  {
   "cell_type": "code",
   "execution_count": null,
   "metadata": {},
   "outputs": [],
   "source": [
    "N_array = [10,20,30,40,50,60,70,80,90,100]\n",
    "sparse_time_array, full_time_array = time_comparison_sparse(N_array, L, generate_circle_grid, \"circle\")\n",
    "plot_time_comparison(sparse_time_array, full_time_array, N_array)"
   ]
  },
  {
   "cell_type": "markdown",
   "metadata": {},
   "source": [
    "## Point D"
   ]
  },
  {
   "cell_type": "markdown",
   "metadata": {},
   "source": [
    "### Eigenfrequencies as a function of L "
   ]
  },
  {
   "cell_type": "code",
   "execution_count": null,
   "metadata": {},
   "outputs": [],
   "source": [
    "N = 25\n",
    "L_array = np.arange(0.5, 12.0, 0.5)\n",
    "influence_of_L(N, L_array, shape_func = [generate_circle_grid, generate_rectangle_grid, generate_square_grid], shape_str = [\"circle\", \"rectangle\", \"square\"])"
   ]
  },
  {
   "cell_type": "markdown",
   "metadata": {},
   "source": [
    "### Do the frequencies depend on the number of discretization steps?"
   ]
  },
  {
   "cell_type": "code",
   "execution_count": null,
   "metadata": {},
   "outputs": [],
   "source": [
    "N_array = np.linspace(20,50,4)\n",
    "plt.figure(figsize=(6,3))\n",
    "\n",
    "for N in N_array:\n",
    "    N = int(N)\n",
    "    laplacian_square, in_square, x_square, y_square = create_laplacian_shape(N, L, \"square\", generate_square_grid)\n",
    "\n",
    "    eigenvalues_square, eigenvectors_square = eigenvalues_and_eigenvectors(laplacian_square, 'eig')\n",
    "    eigenfrequencies = np.sqrt(-eigenvalues_square)\n",
    "\n",
    "    eigenfrequencies /= N\n",
    "    count, bins = np.histogram(eigenfrequencies,50)\n",
    "    plt.plot(bins[:-1], count/N**2, label = N)\n",
    "\n",
    "plt.legend()\n",
    "plt.grid()\n",
    "plt.xlabel(\"Eigenfrequency/$N$\")\n",
    "plt.xticks\n",
    "plt.ylabel(\"Frequency of occurence\")\n"
   ]
  },
  {
   "cell_type": "code",
   "execution_count": null,
   "metadata": {},
   "outputs": [],
   "source": [
    "shapes = [\"square\", \"circle\", \"rectangle\"]\n",
    "shape_funcs = [generate_square_grid, generate_circle_grid, generate_rectangle_grid]\n",
    "N = 100\n",
    "L = 1.0\n",
    "plt.figure(figsize=(6,3))\n",
    "\n",
    "for shape_func, shape in zip(shape_funcs, shapes):\n",
    "    laplacian_shape, in_shape, x_shape, y_shape = create_laplacian_shape(N, L, shape, shape_func)\n",
    "\n",
    "    eigenvalues_shape, eigenvectors_shape = eigenvalues_and_eigenvectors(laplacian_shape, 'sparse_eigs', k=1000)\n",
    "    eigenfrequencies = np.sqrt(-eigenvalues_shape)\n",
    "\n",
    "    eigenfrequencies /= N\n",
    "    count, bins = np.histogram(eigenfrequencies, 50)\n",
    "    plt.plot(bins[:-1], count/N**2, label=shape)\n",
    "\n",
    "plt.legend()\n",
    "plt.grid()\n",
    "plt.xlabel(\"Eigenfrequency/$N$\")\n",
    "plt.xticks\n",
    "plt.ylabel(\"Frequency of occurrence\")"
   ]
  },
  {
   "cell_type": "code",
   "execution_count": null,
   "metadata": {},
   "outputs": [],
   "source": []
  }
 ],
 "metadata": {
  "kernelspec": {
   "display_name": "base",
   "language": "python",
   "name": "python3"
  },
  "language_info": {
   "codemirror_mode": {
    "name": "ipython",
    "version": 3
   },
   "file_extension": ".py",
   "mimetype": "text/x-python",
   "name": "python",
   "nbconvert_exporter": "python",
   "pygments_lexer": "ipython3",
   "version": "3.12.4"
  }
 },
 "nbformat": 4,
 "nbformat_minor": 2
}
