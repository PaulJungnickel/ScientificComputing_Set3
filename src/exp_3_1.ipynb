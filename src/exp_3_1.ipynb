{
 "cells": [
  {
   "cell_type": "code",
   "execution_count": null,
   "metadata": {},
   "outputs": [],
   "source": [
    "import matplotlib.pyplot as plt\n",
    "import numpy as np\n",
    "import scipy.sparse as sp\n",
    "import scipy.linalg\n",
    "import time\n",
    "\n",
    "\n",
    "from shape_creator import *\n",
    "from laplacian_creator import *\n",
    "from drum_eigenmodes import *\n",
    "from plotting import *"
   ]
  },
  {
   "cell_type": "markdown",
   "metadata": {},
   "source": [
    "# Point B"
   ]
  },
  {
   "cell_type": "markdown",
   "metadata": {},
   "source": [
    "### All shapes "
   ]
  },
  {
   "cell_type": "code",
   "execution_count": null,
   "metadata": {},
   "outputs": [],
   "source": [
    "N = 5\n",
    "L = 1\n",
    "#square\n",
    "laplacian_square, in_square, x_square, y_square = create_laplacian_shape(N, L, \"square\", generate_square_grid)\n",
    "plot_laplacian(laplacian_square)\n",
    "\n",
    "#rectangle\n",
    "laplacian_rectangle, in_rectangle, x_rect, y_rect = create_laplacian_shape(N, L, \"rectangle\", generate_rectangle_grid)\n",
    "plot_laplacian(laplacian_rectangle)\n",
    "\n",
    "#circle \n",
    "laplacian_circle, in_circle, x_circle, y_circle = create_laplacian_shape(N, L, \"circle\", generate_circle_grid)\n",
    "plot_laplacian(laplacian_circle)\n"
   ]
  },
  {
   "cell_type": "code",
   "execution_count": null,
   "metadata": {},
   "outputs": [],
   "source": [
    "N = 25\n",
    "L = 1.0\n",
    "methods = ['eig', 'eigh', 'sparse_eigsh', 'sparse_eigs']"
   ]
  },
  {
   "cell_type": "markdown",
   "metadata": {},
   "source": [
    "### Square LxL"
   ]
  },
  {
   "cell_type": "code",
   "execution_count": null,
   "metadata": {},
   "outputs": [],
   "source": [
    "laplacian_square, in_square, x_square, y_square = create_laplacian_shape(N, L, \"square\", generate_square_grid)\n",
    "eigenvalues_square, eigenvectors_square = eigenvalues_and_eigenvectors(laplacian_square, 'sparse_eigs')\n",
    "plot_eigenmodes(eigenvectors_square, eigenvalues_square, in_square, N)\n"
   ]
  },
  {
   "cell_type": "markdown",
   "metadata": {},
   "source": [
    "### Rectangle Lx2L"
   ]
  },
  {
   "cell_type": "code",
   "execution_count": null,
   "metadata": {},
   "outputs": [],
   "source": [
    "laplacian_rectangle, in_rectangle, x_rect, y_rect = create_laplacian_shape(N, L, \"rectangle\", generate_rectangle_grid)\n",
    "eigenvalues_rectangle, eigenvectors_rectangle = eigenvalues_and_eigenvectors(laplacian_rectangle, 'sparse_eigs')\n",
    "plot_eigenmodes(eigenvectors_rectangle, eigenvalues_rectangle, in_rectangle, N)"
   ]
  },
  {
   "cell_type": "markdown",
   "metadata": {},
   "source": [
    "### Circle, diameter L"
   ]
  },
  {
   "cell_type": "code",
   "execution_count": null,
   "metadata": {},
   "outputs": [],
   "source": [
    "laplacian_circle, in_circle, x_circle, y_circle = create_laplacian_shape(N, L, \"circle\", generate_circle_grid)\n",
    "eigenvalues_circle, eigenvectors_circle = eigenvalues_and_eigenvectors(laplacian_circle, 'sparse_eigs')\n",
    "plot_eigenmodes(eigenvectors_circle, eigenvalues_circle, in_circle, N)\n"
   ]
  },
  {
   "cell_type": "markdown",
   "metadata": {},
   "source": [
    "# Point C"
   ]
  },
  {
   "cell_type": "code",
   "execution_count": null,
   "metadata": {},
   "outputs": [],
   "source": [
    "N_array = [10,20,30,40,50,60,70,80,90,100]\n",
    "sparse_time_array, full_time_array = time_comparison_sparse(N_array, L, generate_circle_grid, \"circle\")\n",
    "plot_time_comparison(sparse_time_array, full_time_array, N_array)"
   ]
  },
  {
   "cell_type": "markdown",
   "metadata": {},
   "source": [
    "# Point D"
   ]
  },
  {
   "cell_type": "markdown",
   "metadata": {},
   "source": [
    "### Eigenfrequencies as a function of L "
   ]
  },
  {
   "cell_type": "code",
   "execution_count": null,
   "metadata": {},
   "outputs": [],
   "source": [
    "L_array = np.arange(0.5, 12.0, 0.5)\n",
    "#influence_of_L(N, L_array)\n",
    "plot_eigenfrequencies_boxplot(N, L_array, in_circle, \"circle\")\n",
    "plot_eigenfrequencies_boxplot(N, L_array, in_circle, \"square\")\n",
    "plot_eigenfrequencies_boxplot(N, L_array, in_circle, \"rectangle\")"
   ]
  },
  {
   "cell_type": "markdown",
   "metadata": {},
   "source": [
    "### Do the frequencies depend on the number of discretization steps"
   ]
  },
  {
   "cell_type": "code",
   "execution_count": null,
   "metadata": {},
   "outputs": [],
   "source": [
    "\n",
    "N_array = np.linspace(10,100,10)\n",
    "print(N_array)\n",
    "\n",
    "all_frequencies = []\n",
    "\n",
    "for N in N_array:\n",
    "    N = int(N)\n",
    "    laplacian, in_shape, x, y = create_laplacian_shape(N,L, \"circle\", generate_circle_grid)\n",
    "    eigenvalues, _ = eigenvalues_and_eigenvectors(laplacian, 'sparse_eigs')\n",
    "\n",
    "    eigenfrequencies = np.sqrt(-np.real(eigenvalues))  \n",
    "    all_frequencies.append(eigenfrequencies)\n",
    "\n",
    "all_frequencies = np.array(all_frequencies)\n",
    "print(all_frequencies)"
   ]
  }
 ],
 "metadata": {
  "kernelspec": {
   "display_name": "base",
   "language": "python",
   "name": "python3"
  },
  "language_info": {
   "codemirror_mode": {
    "name": "ipython",
    "version": 3
   },
   "file_extension": ".py",
   "mimetype": "text/x-python",
   "name": "python",
   "nbconvert_exporter": "python",
   "pygments_lexer": "ipython3",
   "version": "3.12.4"
  }
 },
 "nbformat": 4,
 "nbformat_minor": 2
}
