{
 "cells": [
  {
   "cell_type": "code",
   "execution_count": null,
   "metadata": {},
   "outputs": [],
   "source": [
    "import matplotlib.pyplot as plt\n",
    "import numpy as np\n",
    "import scipy.sparse as sp\n",
    "import scipy.linalg\n",
    "import time\n",
    "\n",
    "\n",
    "from shape_creator import *\n",
    "from laplacian_creator import *\n",
    "from drum_eigenmodes import *\n",
    "from plotting import *"
   ]
  },
  {
   "cell_type": "code",
   "execution_count": null,
   "metadata": {},
   "outputs": [],
   "source": [
    "N = 25\n",
    "L = 1.0\n",
    "methods = ['eig', 'eigh', 'sparse_eigsh', 'sparse_eigs']\n",
    "\n",
    "\n",
    "laplacian_circle, in_circle, x_circle, y_circle = create_laplacian_shape(N, L, \"circle\", generate_circle_grid)\n",
    "laplacian_square, in_square, x_square, y_square = create_laplacian_shape(N, L, \"square\", generate_square_grid)\n",
    "laplacian_rectangle, in_rectangle, x_rect, y_rect = create_laplacian_shape(N, L, \"rectangle\", generate_rectangle_grid)\n",
    "\n",
    "plot_laplacian(laplacian_circle)\n",
    "plot_laplacian(laplacian_square)\n",
    "plot_laplacian(laplacian_rectangle)\n",
    "\n",
    "\n",
    "eigenvalues_circle, eigenvectors_circle = eigenvalues_and_eigenvectors(laplacian_circle, 'sparse_eigs')\n",
    "eigenvalues_square, eigenvectors_square = eigenvalues_and_eigenvectors(laplacian_square, 'sparse_eigs')\n",
    "eigenvalues_rectangle, eigenvectors_rectangle = eigenvalues_and_eigenvectors(laplacian_rectangle, 'sparse_eigs')\n",
    "\n",
    "plot_eigenmodes(eigenvectors_circle, eigenvalues_circle, in_circle, N)\n",
    "#plot_eigenmodes(eigenvectors_square, eigenvalues_square, in_square, N)\n",
    "#plot_eigenmodes(eigenvectors_rectangle, eigenvalues_rectangle, in_rectangle, N)\n",
    "\n",
    "\n",
    "\n",
    "L_array = np.arange(0.5, 12.0, 0.5)\n",
    "influence_of_L(N, L_array)\n",
    "\n",
    "\n",
    "N_array = [10,20,30,40,50,60,70,80,90,100]\n",
    "#sparse_time_array, full_time_array = time_comparison_sparse(N_array, L, generate_circle_grid, \"circle\")\n",
    "#plot_time_comparison(sparse_time_array, full_time_array, N_array)\n",
    "\n",
    "plot_eigenfrequencies_boxplot(N, L_array, in_circle, \"circle\")"
   ]
  },
  {
   "cell_type": "code",
   "execution_count": null,
   "metadata": {},
   "outputs": [],
   "source": []
  },
  {
   "cell_type": "code",
   "execution_count": null,
   "metadata": {},
   "outputs": [],
   "source": []
  }
 ],
 "metadata": {
  "kernelspec": {
   "display_name": "venv",
   "language": "python",
   "name": "python3"
  },
  "language_info": {
   "codemirror_mode": {
    "name": "ipython",
    "version": 3
   },
   "file_extension": ".py",
   "mimetype": "text/x-python",
   "name": "python",
   "nbconvert_exporter": "python",
   "pygments_lexer": "ipython3",
   "version": "3.11.9"
  }
 },
 "nbformat": 4,
 "nbformat_minor": 2
}
