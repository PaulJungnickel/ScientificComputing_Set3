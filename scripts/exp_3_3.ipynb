{
 "cells": [
  {
   "cell_type": "code",
   "execution_count": null,
   "metadata": {},
   "outputs": [],
   "source": [
    "import matplotlib.pyplot as plt\n",
    "import numpy as np\n",
    "import scipy.integrate"
   ]
  },
  {
   "cell_type": "markdown",
   "metadata": {},
   "source": []
  },
  {
   "cell_type": "code",
   "execution_count": null,
   "metadata": {},
   "outputs": [],
   "source": [
    "m=1\n",
    "k=1\n",
    "t_max=100000\n",
    "t_steps = 10*t_max\n",
    "\n",
    "def f_t(t):\n",
    "    return 0\n",
    "\n",
    "\n",
    "def f(t, y):\n",
    "    x, v = y\n",
    "    dx = v\n",
    "    dv = (f_t(t) - k*x)/m\n",
    "    return np.array([dx, dv])\n",
    "\n",
    "y0 = np.array([1,0])\n",
    "ts, dt = np.linspace(0,t_max,t_steps, retstep=True)\n",
    "\n",
    "sol = scipy.integrate.solve_ivp(f, [0,t_max], y0=y0, t_eval=ts, method='DOP853')\n",
    "plt.plot(ts, sol.y[0])\n",
    "plt.plot(ts, sol.y[1])\n",
    "plt.show()\n",
    "\n",
    "x = np.zeros_like(ts)\n",
    "v = np.zeros_like(ts)\n",
    "x[0]=1\n",
    "for i, t in enumerate(ts[:-1]):\n",
    "    v[i+1] = v[i] + dt*(f_t(t) - k*x[i])\n",
    "    x[i+1] = x[i] + dt*v[i+1]\n",
    "       \n",
    "plt.plot(ts, x)\n",
    "plt.plot(ts, v)\n",
    "\n",
    "\n",
    "\n",
    "    "
   ]
  },
  {
   "cell_type": "code",
   "execution_count": null,
   "metadata": {},
   "outputs": [],
   "source": [
    "m=1\n",
    "k=1\n",
    "t_max=100\n",
    "t_steps = 100*t_max\n",
    "\n",
    "def f_t(t):\n",
    "    return np.sin(1*t)\n",
    "\n",
    "\n",
    "def f(t, y):\n",
    "    x, v = y\n",
    "    dx = v\n",
    "    dv = (f_t(t) - k*x)/m\n",
    "    return np.array([dx, dv])\n",
    "\n",
    "y0 = np.array([0,5])\n",
    "ts, dt = np.linspace(0,t_max,t_steps, retstep=True)\n",
    "\n",
    "# sol = scipy.integrate.solve_ivp(f, [0,t_max], y0=y0, t_eval=ts, method='DOP853')\n",
    "# plt.plot(ts, sol.y[0])\n",
    "# plt.plot(ts, sol.y[1])\n",
    "# plt.show()\n",
    "\n",
    "x = np.zeros_like(ts)\n",
    "v = np.zeros_like(ts)\n",
    "x[0] =1\n",
    "for i, t in enumerate(ts[:-1]):\n",
    "    v[i+1] = v[i] + dt*(f_t(t) - k*x[i])\n",
    "    x[i+1] = x[i] + dt*v[i+1]\n",
    "       \n",
    "plt.plot(ts, x)\n",
    "plt.plot(ts, v)\n",
    "plt.show()\n",
    "\n",
    "plt.figure(figsize=[10,10])\n",
    "plt.scatter(x, v, s=1, marker='.')\n",
    "\n",
    "\n",
    "\n",
    "    "
   ]
  }
 ],
 "metadata": {
  "kernelspec": {
   "display_name": "Julia 1.10.5",
   "language": "julia",
   "name": "julia-1.10"
  },
  "language_info": {
   "file_extension": ".jl",
   "mimetype": "application/julia",
   "name": "julia",
   "version": "1.10.5"
  }
 },
 "nbformat": 4,
 "nbformat_minor": 2
}
